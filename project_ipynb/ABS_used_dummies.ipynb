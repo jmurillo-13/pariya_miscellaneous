{
 "cells": [
  {
   "cell_type": "code",
   "execution_count": 1,
   "metadata": {},
   "outputs": [],
   "source": [
    "import warnings\n",
    "warnings.simplefilter('ignore')\n",
    "\n",
    "# %matplotlib inline\n",
    "import matplotlib.pyplot as plt\n",
    "import numpy as np\n",
    "import pandas as pd\n",
    "import json \n",
    "import requests "
   ]
  },
  {
   "cell_type": "code",
   "execution_count": 2,
   "metadata": {},
   "outputs": [],
   "source": [
    "r = requests.get('https://api.census.gov/data/2017/abscs?get=NAME,NAICS2017_LABEL,INDGROUP,SEX_LABEL,ETH_GROUP_LABEL,RACE_GROUP_LABEL,VET_GROUP_LABEL,EMPSZFI_LABEL,YEAR,EMP,EMP_F&for=state:*&key=89c98e1ea78b5bd507e2a4c92e426d8069492b9e')\n",
    "# df = pd.read_json(json.dumps(x))"
   ]
  },
  {
   "cell_type": "code",
   "execution_count": 3,
   "metadata": {},
   "outputs": [],
   "source": [
    "x = r.json()"
   ]
  },
  {
   "cell_type": "code",
   "execution_count": 8,
   "metadata": {},
   "outputs": [
    {
     "name": "stdout",
     "output_type": "stream",
     "text": [
      "52\n"
     ]
    }
   ],
   "source": [
    "abs2018 = pd.DataFrame(x)\n",
    "abs2018.head()\n",
    "print(len(abs2018))"
   ]
  },
  {
   "cell_type": "code",
   "execution_count": 5,
   "metadata": {},
   "outputs": [
    {
     "data": {
      "text/html": [
       "<div>\n",
       "<style scoped>\n",
       "    .dataframe tbody tr th:only-of-type {\n",
       "        vertical-align: middle;\n",
       "    }\n",
       "\n",
       "    .dataframe tbody tr th {\n",
       "        vertical-align: top;\n",
       "    }\n",
       "\n",
       "    .dataframe thead th {\n",
       "        text-align: right;\n",
       "    }\n",
       "</style>\n",
       "<table border=\"1\" class=\"dataframe\">\n",
       "  <thead>\n",
       "    <tr style=\"text-align: right;\">\n",
       "      <th></th>\n",
       "      <th>NAME</th>\n",
       "      <th>NAICS2017_LABEL</th>\n",
       "      <th>INDGROUP</th>\n",
       "      <th>SEX_LABEL</th>\n",
       "      <th>ETH_GROUP_LABEL</th>\n",
       "      <th>RACE_GROUP_LABEL</th>\n",
       "      <th>VET_GROUP_LABEL</th>\n",
       "      <th>EMPSZFI_LABEL</th>\n",
       "      <th>YEAR</th>\n",
       "      <th>EMP</th>\n",
       "      <th>EMP_F</th>\n",
       "      <th>state</th>\n",
       "    </tr>\n",
       "  </thead>\n",
       "  <tbody>\n",
       "    <tr>\n",
       "      <th>1</th>\n",
       "      <td>Mississippi</td>\n",
       "      <td>Total for all sectors</td>\n",
       "      <td>None</td>\n",
       "      <td>Total</td>\n",
       "      <td>Total</td>\n",
       "      <td>Total</td>\n",
       "      <td>Total</td>\n",
       "      <td>All firms</td>\n",
       "      <td>2017</td>\n",
       "      <td>894056</td>\n",
       "      <td>None</td>\n",
       "      <td>28</td>\n",
       "    </tr>\n",
       "    <tr>\n",
       "      <th>2</th>\n",
       "      <td>Missouri</td>\n",
       "      <td>Total for all sectors</td>\n",
       "      <td>None</td>\n",
       "      <td>Total</td>\n",
       "      <td>Total</td>\n",
       "      <td>Total</td>\n",
       "      <td>Total</td>\n",
       "      <td>All firms</td>\n",
       "      <td>2017</td>\n",
       "      <td>2472316</td>\n",
       "      <td>None</td>\n",
       "      <td>29</td>\n",
       "    </tr>\n",
       "    <tr>\n",
       "      <th>3</th>\n",
       "      <td>Montana</td>\n",
       "      <td>Total for all sectors</td>\n",
       "      <td>None</td>\n",
       "      <td>Total</td>\n",
       "      <td>Total</td>\n",
       "      <td>Total</td>\n",
       "      <td>Total</td>\n",
       "      <td>All firms</td>\n",
       "      <td>2017</td>\n",
       "      <td>366851</td>\n",
       "      <td>None</td>\n",
       "      <td>30</td>\n",
       "    </tr>\n",
       "    <tr>\n",
       "      <th>4</th>\n",
       "      <td>Nebraska</td>\n",
       "      <td>Total for all sectors</td>\n",
       "      <td>None</td>\n",
       "      <td>Total</td>\n",
       "      <td>Total</td>\n",
       "      <td>Total</td>\n",
       "      <td>Total</td>\n",
       "      <td>All firms</td>\n",
       "      <td>2017</td>\n",
       "      <td>875463</td>\n",
       "      <td>None</td>\n",
       "      <td>31</td>\n",
       "    </tr>\n",
       "    <tr>\n",
       "      <th>5</th>\n",
       "      <td>Nevada</td>\n",
       "      <td>Total for all sectors</td>\n",
       "      <td>None</td>\n",
       "      <td>Total</td>\n",
       "      <td>Total</td>\n",
       "      <td>Total</td>\n",
       "      <td>Total</td>\n",
       "      <td>All firms</td>\n",
       "      <td>2017</td>\n",
       "      <td>1170673</td>\n",
       "      <td>None</td>\n",
       "      <td>32</td>\n",
       "    </tr>\n",
       "  </tbody>\n",
       "</table>\n",
       "</div>"
      ],
      "text/plain": [
       "0         NAME        NAICS2017_LABEL INDGROUP SEX_LABEL ETH_GROUP_LABEL  \\\n",
       "1  Mississippi  Total for all sectors     None     Total           Total   \n",
       "2     Missouri  Total for all sectors     None     Total           Total   \n",
       "3      Montana  Total for all sectors     None     Total           Total   \n",
       "4     Nebraska  Total for all sectors     None     Total           Total   \n",
       "5       Nevada  Total for all sectors     None     Total           Total   \n",
       "\n",
       "0 RACE_GROUP_LABEL VET_GROUP_LABEL EMPSZFI_LABEL  YEAR      EMP EMP_F state  \n",
       "1            Total           Total     All firms  2017   894056  None    28  \n",
       "2            Total           Total     All firms  2017  2472316  None    29  \n",
       "3            Total           Total     All firms  2017   366851  None    30  \n",
       "4            Total           Total     All firms  2017   875463  None    31  \n",
       "5            Total           Total     All firms  2017  1170673  None    32  "
      ]
     },
     "execution_count": 5,
     "metadata": {},
     "output_type": "execute_result"
    }
   ],
   "source": [
    "# Change the first row of Dataframe to the 'Dataframe Header'\n",
    "abs2018.columns = abs2018.iloc[0]\n",
    "abs = abs2018[1:]\n",
    "abs.head()"
   ]
  },
  {
   "cell_type": "code",
   "execution_count": 7,
   "metadata": {},
   "outputs": [
    {
     "data": {
      "text/plain": [
       "0\n",
       "NAME                52\n",
       "NAICS2017_LABEL      2\n",
       "INDGROUP             1\n",
       "SEX_LABEL            2\n",
       "ETH_GROUP_LABEL      2\n",
       "RACE_GROUP_LABEL     2\n",
       "VET_GROUP_LABEL      2\n",
       "EMPSZFI_LABEL        2\n",
       "YEAR                 2\n",
       "EMP                 52\n",
       "EMP_F                1\n",
       "state               52\n",
       "dtype: int64"
      ]
     },
     "execution_count": 7,
     "metadata": {},
     "output_type": "execute_result"
    }
   ],
   "source": [
    "#abs2018[\"NAME\"].nunique()\n",
    "abs2018.nunique(axis = 0, dropna = True) "
   ]
  }
 ],
 "metadata": {
  "kernelspec": {
   "display_name": "Python 3",
   "language": "python",
   "name": "python3"
  },
  "language_info": {
   "codemirror_mode": {
    "name": "ipython",
    "version": 3
   },
   "file_extension": ".py",
   "mimetype": "text/x-python",
   "name": "python",
   "nbconvert_exporter": "python",
   "pygments_lexer": "ipython3",
   "version": "3.8.3"
  }
 },
 "nbformat": 4,
 "nbformat_minor": 4
}
